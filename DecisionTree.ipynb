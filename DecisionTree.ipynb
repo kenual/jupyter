{
 "cells": [
  {
   "cell_type": "code",
   "execution_count": 1,
   "metadata": {},
   "outputs": [],
   "source": [
    "import numpy as np\n",
    "import pandas as pd\n",
    "from sklearn.tree import DecisionTreeRegressor\n",
    "from sklearn.metrics import mean_absolute_error\n",
    "from sklearn.model_selection import train_test_split"
   ]
  },
  {
   "cell_type": "code",
   "execution_count": 2,
   "metadata": {},
   "outputs": [],
   "source": [
    "random_state=5\n",
    "decisionTreeModel = DecisionTreeRegressor(random_state=random_state)"
   ]
  },
  {
   "cell_type": "code",
   "execution_count": 3,
   "metadata": {},
   "outputs": [],
   "source": [
    "def func (x, y):\n",
    "    return x*y+x\n",
    "\n",
    "def prediction_error (x, y):\n",
    "    prediction = decisionTreeModel.predict([[x, y]])[0]\n",
    "    actual = func(x, y)\n",
    "    print (\"Prediction: {} Actual: {}\", prediction, actual)\n",
    "    return abs(prediction - actual)"
   ]
  },
  {
   "cell_type": "code",
   "execution_count": 4,
   "metadata": {},
   "outputs": [],
   "source": [
    "samples = 999999\n",
    "max_random_value = 5000\n",
    "np.random.seed(100)\n",
    "\n",
    "r1 = np.random.randint(max_random_value, size=samples)\n",
    "r2 = np.random.randint(max_random_value, size=samples)"
   ]
  },
  {
   "cell_type": "code",
   "execution_count": 5,
   "metadata": {},
   "outputs": [
    {
     "name": "stdout",
     "output_type": "stream",
     "text": [
      "     r1    r2     value\n",
      "0  3927  3947  15503796\n",
      "1    79  4238    334881\n",
      "2   350   551    193200\n",
      "3  1890  3166   5985630\n",
      "4  4149  2812  11671137\n",
      "                  r1             r2         value\n",
      "count  999999.000000  999999.000000  9.999990e+05\n",
      "mean     2499.760913    2499.873262  6.249776e+06\n",
      "std      1444.468258    1444.055067  5.513823e+06\n",
      "min         0.000000       0.000000  0.000000e+00\n",
      "25%      1248.000000    1248.000000  1.691045e+06\n",
      "50%      2500.000000    2501.000000  4.665225e+06\n",
      "75%      3753.000000    3750.000000  9.556279e+06\n",
      "max      4999.000000    4999.000000  2.495502e+07\n"
     ]
    }
   ],
   "source": [
    "data = [[r1[index], r2[index], func(r1[index], r2[index])] for index in range(samples)]\n",
    "dataFrame = pd.DataFrame(data, columns=[\"r1\", \"r2\", \"value\"])\n",
    "print(dataFrame.head())\n",
    "print(dataFrame.describe())"
   ]
  },
  {
   "cell_type": "code",
   "execution_count": 6,
   "metadata": {},
   "outputs": [],
   "source": [
    "features = ['r1', 'r2']\n",
    "X = dataFrame[features]\n",
    "y = dataFrame['value']"
   ]
  },
  {
   "cell_type": "code",
   "execution_count": 7,
   "metadata": {},
   "outputs": [],
   "source": [
    "train_X, val_X, train_y, val_y = train_test_split(X, y, random_state=random_state)"
   ]
  },
  {
   "cell_type": "code",
   "execution_count": 8,
   "metadata": {},
   "outputs": [
    {
     "data": {
      "text/plain": [
       "DecisionTreeRegressor(criterion='mse', max_depth=None, max_features=None,\n",
       "                      max_leaf_nodes=None, min_impurity_decrease=0.0,\n",
       "                      min_impurity_split=None, min_samples_leaf=1,\n",
       "                      min_samples_split=2, min_weight_fraction_leaf=0.0,\n",
       "                      presort=False, random_state=5, splitter='best')"
      ]
     },
     "execution_count": 8,
     "metadata": {},
     "output_type": "execute_result"
    }
   ],
   "source": [
    "decisionTreeModel.fit(train_X, train_y)"
   ]
  },
  {
   "cell_type": "code",
   "execution_count": 9,
   "metadata": {},
   "outputs": [
    {
     "data": {
      "text/plain": [
       "0.0"
      ]
     },
     "execution_count": 9,
     "metadata": {},
     "output_type": "execute_result"
    }
   ],
   "source": [
    "prediction = decisionTreeModel.predict(train_X)\n",
    "mean_absolute_error(prediction, train_y)"
   ]
  },
  {
   "cell_type": "code",
   "execution_count": 10,
   "metadata": {},
   "outputs": [
    {
     "data": {
      "text/plain": [
       "9234.1212"
      ]
     },
     "execution_count": 10,
     "metadata": {},
     "output_type": "execute_result"
    }
   ],
   "source": [
    "prediction = decisionTreeModel.predict(val_X)\n",
    "mean_absolute_error(prediction, val_y)"
   ]
  },
  {
   "cell_type": "code",
   "execution_count": 17,
   "metadata": {},
   "outputs": [
    {
     "name": "stdout",
     "output_type": "stream",
     "text": [
      "Prediction: {} Actual: {} 5621292.0 5611356\n"
     ]
    },
    {
     "data": {
      "text/plain": [
       "9936.0"
      ]
     },
     "execution_count": 17,
     "metadata": {},
     "output_type": "execute_result"
    }
   ],
   "source": [
    "prediction_error (np.random.randint(max_random_value), np.random.randint(max_random_value))"
   ]
  },
  {
   "cell_type": "code",
   "execution_count": null,
   "metadata": {},
   "outputs": [],
   "source": []
  }
 ],
 "metadata": {
  "kernelspec": {
   "display_name": "Python 3",
   "language": "python",
   "name": "python3"
  },
  "language_info": {
   "codemirror_mode": {
    "name": "ipython",
    "version": 3
   },
   "file_extension": ".py",
   "mimetype": "text/x-python",
   "name": "python",
   "nbconvert_exporter": "python",
   "pygments_lexer": "ipython3",
   "version": "3.7.4"
  }
 },
 "nbformat": 4,
 "nbformat_minor": 4
}
