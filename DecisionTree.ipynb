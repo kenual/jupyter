{
 "cells": [
  {
   "cell_type": "code",
   "execution_count": 1,
   "metadata": {},
   "outputs": [],
   "source": [
    "import numpy as np\n",
    "import pandas as pd\n",
    "from sklearn.tree import DecisionTreeRegressor\n",
    "from sklearn.metrics import mean_absolute_error\n",
    "from sklearn.model_selection import train_test_split"
   ]
  },
  {
   "cell_type": "code",
   "execution_count": 2,
   "metadata": {},
   "outputs": [],
   "source": [
    "random_state=5\n",
    "decisionTreeModel = DecisionTreeRegressor(random_state=random_state)"
   ]
  },
  {
   "cell_type": "code",
   "execution_count": 26,
   "metadata": {},
   "outputs": [],
   "source": [
    "def func (x, y):\n",
    "    return x*y+x\n",
    "\n",
    "def prediction_error (x, y):\n",
    "    prediction = decisionTreeModel.predict([[x, y]])[0]\n",
    "    actual = func(x, y)\n",
    "    print (\"Prediction: \" + str(prediction) + \" Actual: \" + str(actual))\n",
    "    return abs(prediction - actual)"
   ]
  },
  {
   "cell_type": "code",
   "execution_count": 12,
   "metadata": {},
   "outputs": [],
   "source": [
    "samples = 999999\n",
    "max_random_value = 5000\n",
    "np.random.seed(100)\n",
    "\n",
    "r1 = np.random.randint(max_random_value, size=samples)\n",
    "r2 = np.random.randint(max_random_value, size=samples)"
   ]
  },
  {
   "cell_type": "code",
   "execution_count": 13,
   "metadata": {},
   "outputs": [
    {
     "name": "stdout",
     "output_type": "stream",
     "text": [
      "     r1    r2     value\n",
      "0  3927  2160   8486247\n",
      "1    79  1417    112022\n",
      "2   350  3879   1358000\n",
      "3  1890  3663   6924960\n",
      "4  4149  3446  14301603\n",
      "                 r1            r2         value\n",
      "count  9.999999e+06  9.999999e+06  9.999999e+06\n",
      "mean   2.499700e+03  2.498993e+03  6.249784e+06\n",
      "std    1.443703e+03  1.443498e+03  5.512671e+06\n",
      "min    0.000000e+00  0.000000e+00  0.000000e+00\n",
      "25%    1.249000e+03  1.249000e+03  1.691690e+06\n",
      "50%    2.500000e+03  2.498000e+03  4.663728e+06\n",
      "75%    3.750000e+03  3.750000e+03  9.559800e+06\n",
      "max    4.999000e+03  4.999000e+03  2.499500e+07\n"
     ]
    }
   ],
   "source": [
    "data = [[r1[index], r2[index], func(r1[index], r2[index])] for index in range(samples)]\n",
    "dataFrame = pd.DataFrame(data, columns=[\"r1\", \"r2\", \"value\"])\n",
    "print(dataFrame.head())\n",
    "print(dataFrame.describe())"
   ]
  },
  {
   "cell_type": "code",
   "execution_count": 14,
   "metadata": {},
   "outputs": [],
   "source": [
    "features = ['r1', 'r2']\n",
    "X = dataFrame[features]\n",
    "y = dataFrame['value']"
   ]
  },
  {
   "cell_type": "code",
   "execution_count": 15,
   "metadata": {},
   "outputs": [],
   "source": [
    "train_X, val_X, train_y, val_y = train_test_split(X, y, random_state=random_state)"
   ]
  },
  {
   "cell_type": "code",
   "execution_count": 16,
   "metadata": {},
   "outputs": [
    {
     "data": {
      "text/plain": [
       "DecisionTreeRegressor(criterion='mse', max_depth=None, max_features=None,\n",
       "                      max_leaf_nodes=None, min_impurity_decrease=0.0,\n",
       "                      min_impurity_split=None, min_samples_leaf=1,\n",
       "                      min_samples_split=2, min_weight_fraction_leaf=0.0,\n",
       "                      presort=False, random_state=5, splitter='best')"
      ]
     },
     "execution_count": 16,
     "metadata": {},
     "output_type": "execute_result"
    }
   ],
   "source": [
    "decisionTreeModel.fit(train_X, train_y)"
   ]
  },
  {
   "cell_type": "code",
   "execution_count": 17,
   "metadata": {},
   "outputs": [
    {
     "data": {
      "text/plain": [
       "0.0"
      ]
     },
     "execution_count": 17,
     "metadata": {},
     "output_type": "execute_result"
    }
   ],
   "source": [
    "prediction = decisionTreeModel.predict(train_X)\n",
    "mean_absolute_error(prediction, train_y)"
   ]
  },
  {
   "cell_type": "code",
   "execution_count": 18,
   "metadata": {},
   "outputs": [
    {
     "data": {
      "text/plain": [
       "2399.2242284"
      ]
     },
     "execution_count": 18,
     "metadata": {},
     "output_type": "execute_result"
    }
   ],
   "source": [
    "prediction = decisionTreeModel.predict(val_X)\n",
    "mean_absolute_error(prediction, val_y)"
   ]
  },
  {
   "cell_type": "code",
   "execution_count": 28,
   "metadata": {},
   "outputs": [
    {
     "name": "stdout",
     "output_type": "stream",
     "text": [
      "Prediction: 7091264.0 Actual: 7091264\n"
     ]
    },
    {
     "data": {
      "text/plain": [
       "0.0"
      ]
     },
     "execution_count": 28,
     "metadata": {},
     "output_type": "execute_result"
    }
   ],
   "source": [
    "prediction_error (np.random.randint(max_random_value), np.random.randint(max_random_value))"
   ]
  },
  {
   "cell_type": "code",
   "execution_count": null,
   "metadata": {},
   "outputs": [],
   "source": []
  }
 ],
 "metadata": {
  "kernelspec": {
   "display_name": "Python 3",
   "language": "python",
   "name": "python3"
  },
  "language_info": {
   "codemirror_mode": {
    "name": "ipython",
    "version": 3
   },
   "file_extension": ".py",
   "mimetype": "text/x-python",
   "name": "python",
   "nbconvert_exporter": "python",
   "pygments_lexer": "ipython3",
   "version": "3.7.4"
  }
 },
 "nbformat": 4,
 "nbformat_minor": 4
}
